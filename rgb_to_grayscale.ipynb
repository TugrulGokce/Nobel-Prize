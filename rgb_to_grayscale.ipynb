{
  "nbformat": 4,
  "nbformat_minor": 0,
  "metadata": {
    "colab": {
      "name": "rgb_to_grayscale.ipynb",
      "provenance": [],
      "collapsed_sections": [],
      "mount_file_id": "1yKDmlZdVDVDiwftEtklG-hURVEt4h-cw",
      "authorship_tag": "ABX9TyNO0QhludUZ5qR6xjSVdXcr",
      "include_colab_link": true
    },
    "kernelspec": {
      "display_name": "Python 3",
      "name": "python3"
    },
    "language_info": {
      "name": "python"
    }
  },
  "cells": [
    {
      "cell_type": "markdown",
      "metadata": {
        "id": "view-in-github",
        "colab_type": "text"
      },
      "source": [
        "<a href=\"https://colab.research.google.com/github/TugrulGokce/Nobel-Prize/blob/master/rgb_to_grayscale.ipynb\" target=\"_parent\"><img src=\"https://colab.research.google.com/assets/colab-badge.svg\" alt=\"Open In Colab\"/></a>"
      ]
    },
    {
      "cell_type": "code",
      "metadata": {
        "id": "jZrx7Ck_8Vat"
      },
      "source": [
        "path = \"/content/image_datasets\""
      ],
      "execution_count": null,
      "outputs": []
    },
    {
      "cell_type": "code",
      "metadata": {
        "id": "qweEJAi_HOXf"
      },
      "source": [
        "import os\n",
        "from tqdm import tqdm\n",
        "from PIL import Image\n",
        "\n",
        "categories = [\"glioma\"]\n",
        "DIR = \"image_dataset\"\n",
        "\n",
        "\n",
        "for category in categories:\n",
        "  files_address = os.path.join(DIR, category) # directory ile sub directory'i birlestir dataset/sample1\n",
        "  ## value = categories.index(category)\n",
        "  #print(files_add)\n",
        "\n",
        "  for image_address in os.listdir(files_address): # klasor altında ki resimleri tek tek oku\n",
        "    img = Image.open(f'{files_address}/{image_address}')\n",
        "    imgGray = img.convert('L')\n",
        "    imgGray.save(f'gray_image_dataset/{image_address}')\n"
      ],
      "execution_count": null,
      "outputs": []
    },
    {
      "cell_type": "code",
      "metadata": {
        "colab": {
          "base_uri": "https://localhost:8080/"
        },
        "id": "0L6OKSCYM-gp",
        "outputId": "60814f06-4432-4a23-efbc-d77307c62943"
      },
      "source": [
        "import math\n",
        "\n",
        "math.floor(105/26)"
      ],
      "execution_count": null,
      "outputs": [
        {
          "output_type": "execute_result",
          "data": {
            "text/plain": [
              "4"
            ]
          },
          "metadata": {},
          "execution_count": 8
        }
      ]
    },
    {
      "cell_type": "code",
      "metadata": {
        "colab": {
          "base_uri": "https://localhost:8080/"
        },
        "id": "u1lmtn6oKAjX",
        "outputId": "b8ea224c-7c6a-4b41-bbfe-d5c72892d87f"
      },
      "source": [
        "105//26"
      ],
      "execution_count": null,
      "outputs": [
        {
          "output_type": "execute_result",
          "data": {
            "text/plain": [
              "4"
            ]
          },
          "metadata": {},
          "execution_count": 11
        }
      ]
    }
  ]
}